{
 "cells": [
  {
   "cell_type": "markdown",
   "metadata": {},
   "source": [
    "# Visualizing SQL Queries"
   ]
  },
  {
   "cell_type": "code",
   "execution_count": 1,
   "metadata": {
    "collapsed": false
   },
   "outputs": [],
   "source": [
    "import sqlite3\n",
    "import matplotlib.pyplot as plt\n",
    "import numpy as np\n",
    "import pandas as pd\n",
    "%matplotlib inline\n",
    "\n",
    "def run_query(q):\n",
    "    with sqlite3.connect('chinook.db') as conn:\n",
    "        return pd.read_sql(q, conn)\n",
    "    \n",
    "def run_command(q):\n",
    "    with sqlite3.connect('chinook.db') as conn:\n",
    "        conn.isolation_level = None\n",
    "        return conn.execute(q)\n",
    "    \n",
    "def show_tables():\n",
    "    q_temp = '''\n",
    "    SELECT name, type\n",
    "    FROM sqlite_master\n",
    "    WHERE type IN (\"table\",\"view\");\n",
    "    '''\n",
    "    return run_query(q_temp)"
   ]
  },
  {
   "cell_type": "code",
   "execution_count": 2,
   "metadata": {
    "collapsed": false
   },
   "outputs": [
    {
     "data": {
      "text/html": [
       "<div>\n",
       "<style scoped>\n",
       "    .dataframe tbody tr th:only-of-type {\n",
       "        vertical-align: middle;\n",
       "    }\n",
       "\n",
       "    .dataframe tbody tr th {\n",
       "        vertical-align: top;\n",
       "    }\n",
       "\n",
       "    .dataframe thead th {\n",
       "        text-align: right;\n",
       "    }\n",
       "</style>\n",
       "<table border=\"1\" class=\"dataframe\">\n",
       "  <thead>\n",
       "    <tr style=\"text-align: right;\">\n",
       "      <th></th>\n",
       "      <th>name</th>\n",
       "      <th>type</th>\n",
       "    </tr>\n",
       "  </thead>\n",
       "  <tbody>\n",
       "    <tr>\n",
       "      <th>0</th>\n",
       "      <td>album</td>\n",
       "      <td>table</td>\n",
       "    </tr>\n",
       "    <tr>\n",
       "      <th>1</th>\n",
       "      <td>artist</td>\n",
       "      <td>table</td>\n",
       "    </tr>\n",
       "    <tr>\n",
       "      <th>2</th>\n",
       "      <td>customer</td>\n",
       "      <td>table</td>\n",
       "    </tr>\n",
       "    <tr>\n",
       "      <th>3</th>\n",
       "      <td>employee</td>\n",
       "      <td>table</td>\n",
       "    </tr>\n",
       "    <tr>\n",
       "      <th>4</th>\n",
       "      <td>genre</td>\n",
       "      <td>table</td>\n",
       "    </tr>\n",
       "    <tr>\n",
       "      <th>5</th>\n",
       "      <td>invoice</td>\n",
       "      <td>table</td>\n",
       "    </tr>\n",
       "    <tr>\n",
       "      <th>6</th>\n",
       "      <td>invoice_line</td>\n",
       "      <td>table</td>\n",
       "    </tr>\n",
       "    <tr>\n",
       "      <th>7</th>\n",
       "      <td>media_type</td>\n",
       "      <td>table</td>\n",
       "    </tr>\n",
       "    <tr>\n",
       "      <th>8</th>\n",
       "      <td>playlist</td>\n",
       "      <td>table</td>\n",
       "    </tr>\n",
       "    <tr>\n",
       "      <th>9</th>\n",
       "      <td>playlist_track</td>\n",
       "      <td>table</td>\n",
       "    </tr>\n",
       "    <tr>\n",
       "      <th>10</th>\n",
       "      <td>track</td>\n",
       "      <td>table</td>\n",
       "    </tr>\n",
       "  </tbody>\n",
       "</table>\n",
       "</div>"
      ],
      "text/plain": [
       "              name   type\n",
       "0            album  table\n",
       "1           artist  table\n",
       "2         customer  table\n",
       "3         employee  table\n",
       "4            genre  table\n",
       "5          invoice  table\n",
       "6     invoice_line  table\n",
       "7       media_type  table\n",
       "8         playlist  table\n",
       "9   playlist_track  table\n",
       "10           track  table"
      ]
     },
     "execution_count": 2,
     "metadata": {},
     "output_type": "execute_result"
    }
   ],
   "source": [
    "show_tables()"
   ]
  },
  {
   "cell_type": "markdown",
   "metadata": {},
   "source": [
    "### Choosing which genre of music to promote within the USA\n",
    "\n",
    "Based on the newly produced music albums, the record label and their store partner wish to identify which genres to promote in the USA based on the best selling genres in the country.\n",
    "\n",
    "The record store is targetting the promotion of 3 albums from a given choice of 4 artists and their corresponding genres.\n",
    "\n",
    "The artist and their genres are:\n",
    "\n",
    "| Artist Name |\tGenre |\n",
    "| ----------- | ----- |\n",
    "|Regal\t| Hip-Hop |\n",
    "|Red Tone |\tPunk |\n",
    "|Meteor and the Girls |\tPop |\n",
    "|Slim Jim Bites | Blues |"
   ]
  },
  {
   "cell_type": "code",
   "execution_count": 3,
   "metadata": {
    "collapsed": false,
    "scrolled": false
   },
   "outputs": [],
   "source": [
    "query1 = \"\"\"\n",
    "           WITH \n",
    "            album_genres AS\n",
    "            (\n",
    "                SELECT name, genre_id FROM genre\n",
    "             ),\n",
    "             tracks_sold_usa AS\n",
    "             (\n",
    "                SELECT invo.* FROM invoice invo\n",
    "                INNER JOIN invoice_line inv1 ON inv1.invoice_id = invo.invoice_id\n",
    "                INNER JOIN track tr ON tr.track_id = inv1.track_id\n",
    "                WHERE invo.billing_country = \"USA\"\n",
    "             ),\n",
    "            buyers AS\n",
    "            (\n",
    "                SELECT invoice_id FROM invoice\n",
    "                WHERE billing_country = \"USA\"\n",
    "             )\n",
    "             \n",
    "             SELECT t.genre_id Genre_id, ag.name Genre_name, SUM(inv.quantity) Tracks_sold,\n",
    "             CAST(SUM(inv.quantity) as float)/(SELECT COUNT(*) from tracks_sold_usa) percent_sold\n",
    "             FROM buyers b \n",
    "             INNER JOIN invoice_line inv ON inv.invoice_id = b.invoice_id\n",
    "             INNER JOIN track t ON t.track_id = inv.track_id\n",
    "             INNER JOIN album_genres ag ON t.genre_id = ag.genre_id\n",
    "             GROUP BY 1\n",
    "             ORDER BY 3 DESC;\n",
    "         \"\"\"\n",
    "album_genres = run_query(query1)"
   ]
  },
  {
   "cell_type": "code",
   "execution_count": 4,
   "metadata": {
    "collapsed": false
   },
   "outputs": [
    {
     "data": {
      "text/html": [
       "<div>\n",
       "<style scoped>\n",
       "    .dataframe tbody tr th:only-of-type {\n",
       "        vertical-align: middle;\n",
       "    }\n",
       "\n",
       "    .dataframe tbody tr th {\n",
       "        vertical-align: top;\n",
       "    }\n",
       "\n",
       "    .dataframe thead th {\n",
       "        text-align: right;\n",
       "    }\n",
       "</style>\n",
       "<table border=\"1\" class=\"dataframe\">\n",
       "  <thead>\n",
       "    <tr style=\"text-align: right;\">\n",
       "      <th></th>\n",
       "      <th>Genre_id</th>\n",
       "      <th>Tracks_sold</th>\n",
       "      <th>percent_sold</th>\n",
       "    </tr>\n",
       "    <tr>\n",
       "      <th>Genre_name</th>\n",
       "      <th></th>\n",
       "      <th></th>\n",
       "      <th></th>\n",
       "    </tr>\n",
       "  </thead>\n",
       "  <tbody>\n",
       "    <tr>\n",
       "      <th>Rock</th>\n",
       "      <td>1</td>\n",
       "      <td>561</td>\n",
       "      <td>0.533777</td>\n",
       "    </tr>\n",
       "    <tr>\n",
       "      <th>Alternative &amp; Punk</th>\n",
       "      <td>4</td>\n",
       "      <td>130</td>\n",
       "      <td>0.123692</td>\n",
       "    </tr>\n",
       "    <tr>\n",
       "      <th>Metal</th>\n",
       "      <td>3</td>\n",
       "      <td>124</td>\n",
       "      <td>0.117983</td>\n",
       "    </tr>\n",
       "    <tr>\n",
       "      <th>R&amp;B/Soul</th>\n",
       "      <td>14</td>\n",
       "      <td>53</td>\n",
       "      <td>0.050428</td>\n",
       "    </tr>\n",
       "    <tr>\n",
       "      <th>Blues</th>\n",
       "      <td>6</td>\n",
       "      <td>36</td>\n",
       "      <td>0.034253</td>\n",
       "    </tr>\n",
       "    <tr>\n",
       "      <th>Alternative</th>\n",
       "      <td>23</td>\n",
       "      <td>35</td>\n",
       "      <td>0.033302</td>\n",
       "    </tr>\n",
       "    <tr>\n",
       "      <th>Latin</th>\n",
       "      <td>7</td>\n",
       "      <td>22</td>\n",
       "      <td>0.020932</td>\n",
       "    </tr>\n",
       "    <tr>\n",
       "      <th>Pop</th>\n",
       "      <td>9</td>\n",
       "      <td>22</td>\n",
       "      <td>0.020932</td>\n",
       "    </tr>\n",
       "    <tr>\n",
       "      <th>Hip Hop/Rap</th>\n",
       "      <td>17</td>\n",
       "      <td>20</td>\n",
       "      <td>0.019029</td>\n",
       "    </tr>\n",
       "    <tr>\n",
       "      <th>Jazz</th>\n",
       "      <td>2</td>\n",
       "      <td>14</td>\n",
       "      <td>0.013321</td>\n",
       "    </tr>\n",
       "    <tr>\n",
       "      <th>Easy Listening</th>\n",
       "      <td>12</td>\n",
       "      <td>13</td>\n",
       "      <td>0.012369</td>\n",
       "    </tr>\n",
       "    <tr>\n",
       "      <th>Reggae</th>\n",
       "      <td>8</td>\n",
       "      <td>6</td>\n",
       "      <td>0.005709</td>\n",
       "    </tr>\n",
       "    <tr>\n",
       "      <th>Electronica/Dance</th>\n",
       "      <td>15</td>\n",
       "      <td>5</td>\n",
       "      <td>0.004757</td>\n",
       "    </tr>\n",
       "    <tr>\n",
       "      <th>Classical</th>\n",
       "      <td>24</td>\n",
       "      <td>4</td>\n",
       "      <td>0.003806</td>\n",
       "    </tr>\n",
       "    <tr>\n",
       "      <th>Heavy Metal</th>\n",
       "      <td>13</td>\n",
       "      <td>3</td>\n",
       "      <td>0.002854</td>\n",
       "    </tr>\n",
       "    <tr>\n",
       "      <th>Soundtrack</th>\n",
       "      <td>10</td>\n",
       "      <td>2</td>\n",
       "      <td>0.001903</td>\n",
       "    </tr>\n",
       "    <tr>\n",
       "      <th>TV Shows</th>\n",
       "      <td>19</td>\n",
       "      <td>1</td>\n",
       "      <td>0.000951</td>\n",
       "    </tr>\n",
       "  </tbody>\n",
       "</table>\n",
       "</div>"
      ],
      "text/plain": [
       "                    Genre_id  Tracks_sold  percent_sold\n",
       "Genre_name                                             \n",
       "Rock                       1          561      0.533777\n",
       "Alternative & Punk         4          130      0.123692\n",
       "Metal                      3          124      0.117983\n",
       "R&B/Soul                  14           53      0.050428\n",
       "Blues                      6           36      0.034253\n",
       "Alternative               23           35      0.033302\n",
       "Latin                      7           22      0.020932\n",
       "Pop                        9           22      0.020932\n",
       "Hip Hop/Rap               17           20      0.019029\n",
       "Jazz                       2           14      0.013321\n",
       "Easy Listening            12           13      0.012369\n",
       "Reggae                     8            6      0.005709\n",
       "Electronica/Dance         15            5      0.004757\n",
       "Classical                 24            4      0.003806\n",
       "Heavy Metal               13            3      0.002854\n",
       "Soundtrack                10            2      0.001903\n",
       "TV Shows                  19            1      0.000951"
      ]
     },
     "execution_count": 4,
     "metadata": {},
     "output_type": "execute_result"
    }
   ],
   "source": [
    "album_genres.set_index(\"Genre_name\",drop=True,inplace=True)\n",
    "album_genres"
   ]
  },
  {
   "cell_type": "code",
   "execution_count": 5,
   "metadata": {
    "collapsed": false,
    "scrolled": false
   },
   "outputs": [
    {
     "data": {
      "text/plain": [
       "<matplotlib.text.Text at 0x7facbbf0cc18>"
      ]
     },
     "execution_count": 5,
     "metadata": {},
     "output_type": "execute_result"
    },
    {
     "data": {
      "image/png": "[encoded data removed]",
      "text/plain": [
       "<matplotlib.figure.Figure at 0x7facbbf617f0>"
      ]
     },
     "metadata": {},
     "output_type": "display_data"
    }
   ],
   "source": [
    "fig, ax = plt.subplots(figsize=(8,5))\n",
    "cmap = plt.cm.get_cmap('Spectral')\n",
    "album_genres['percent_sold'].plot(kind='barh', legend = False, ax=ax, colormap=cmap)\n",
    "plt.title(\"Best selling music album genres in the USA\")\n",
    "ax.set_xlabel('Fraction')\n",
    "ax.set_ylabel('')"
   ]
  },
  {
   "cell_type": "markdown",
   "metadata": {},
   "source": [
    "Using SQL queries we can see visually that \"Rock\" music has significantly more album sales compared to the other genres. But, none of the available albums are of the \"Rock\" genre.\n",
    "\n",
    "Based on the label's albums, the genres \"Punk\",\"Blues\" and \"Pop\" would be the best choices to promote via the record store in the USA. The choice to be left out would be \"Hip-Hop\" since it had the least sales in the USA amongst the 4 choices."
   ]
  },
  {
   "cell_type": "markdown",
   "metadata": {},
   "source": [
    "### Comparing sales records of agents\n",
    "\n",
    "Sales agents employed by the store are assigned to customers to handle and assist the purchase of records. Comparing the sales records of the employed agents alongside pertinent data would assist in highlighting if any internal or external factors played a role in the sales achieved by the agents."
   ]
  },
  {
   "cell_type": "code",
   "execution_count": 6,
   "metadata": {
    "collapsed": false
   },
   "outputs": [
    {
     "data": {
      "text/html": [
       "<div>\n",
       "<style scoped>\n",
       "    .dataframe tbody tr th:only-of-type {\n",
       "        vertical-align: middle;\n",
       "    }\n",
       "\n",
       "    .dataframe tbody tr th {\n",
       "        vertical-align: top;\n",
       "    }\n",
       "\n",
       "    .dataframe thead th {\n",
       "        text-align: right;\n",
       "    }\n",
       "</style>\n",
       "<table border=\"1\" class=\"dataframe\">\n",
       "  <thead>\n",
       "    <tr style=\"text-align: right;\">\n",
       "      <th></th>\n",
       "      <th>Agent_Name</th>\n",
       "      <th>Date_of_hire</th>\n",
       "      <th>Total_Sales</th>\n",
       "    </tr>\n",
       "  </thead>\n",
       "  <tbody>\n",
       "    <tr>\n",
       "      <th>0</th>\n",
       "      <td>Jane Peacock</td>\n",
       "      <td>2017-04-01 00:00:00</td>\n",
       "      <td>1731.51</td>\n",
       "    </tr>\n",
       "    <tr>\n",
       "      <th>1</th>\n",
       "      <td>Margaret Park</td>\n",
       "      <td>2017-05-03 00:00:00</td>\n",
       "      <td>1584.00</td>\n",
       "    </tr>\n",
       "    <tr>\n",
       "      <th>2</th>\n",
       "      <td>Steve Johnson</td>\n",
       "      <td>2017-10-17 00:00:00</td>\n",
       "      <td>1393.92</td>\n",
       "    </tr>\n",
       "  </tbody>\n",
       "</table>\n",
       "</div>"
      ],
      "text/plain": [
       "      Agent_Name         Date_of_hire  Total_Sales\n",
       "0   Jane Peacock  2017-04-01 00:00:00      1731.51\n",
       "1  Margaret Park  2017-05-03 00:00:00      1584.00\n",
       "2  Steve Johnson  2017-10-17 00:00:00      1393.92"
      ]
     },
     "execution_count": 6,
     "metadata": {},
     "output_type": "execute_result"
    }
   ],
   "source": [
    "query2 = '''\n",
    "            WITH \n",
    "            agents AS\n",
    "            (\n",
    "                SELECT emply.* FROM employee emply\n",
    "                WHERE title LIKE \"%Agent%\"\n",
    "            ),\n",
    "            employee_sales AS\n",
    "            (\n",
    "                SELECT emp.employee_id, SUM(inv.total) Total_Sales\n",
    "                FROM invoice inv\n",
    "                INNER JOIN customer c ON c.customer_id = inv.customer_id\n",
    "                INNER JOIN employee emp ON emp.employee_id = c.support_rep_id\n",
    "                GROUP BY 1\n",
    "            )\n",
    "            \n",
    "            SELECT ag.first_name || \" \" || ag.last_name Agent_Name, ag.hire_date Date_of_hire, es.Total_Sales\n",
    "            FROM agents ag\n",
    "            INNER JOIN employee_sales es ON es.employee_id = ag.employee_id\n",
    "            GROUP BY 1\n",
    "            ORDER BY 2;\n",
    "            '''\n",
    "\n",
    "agent_sales = run_query(query2)\n",
    "agent_sales"
   ]
  },
  {
   "cell_type": "code",
   "execution_count": 7,
   "metadata": {
    "collapsed": false
   },
   "outputs": [
    {
     "data": {
      "text/plain": [
       "<matplotlib.text.Text at 0x7facbbc64048>"
      ]
     },
     "execution_count": 7,
     "metadata": {},
     "output_type": "execute_result"
    },
    {
     "data": {
      "image/png": "[encoded data removed]",
      "text/plain": [
       "<matplotlib.figure.Figure at 0x7facbbec9e80>"
      ]
     },
     "metadata": {},
     "output_type": "display_data"
    }
   ],
   "source": [
    "agent_sales.set_index(\"Agent_Name\",drop=True,inplace=True)\n",
    "fig, ax = plt.subplots(figsize=(8,5))\n",
    "cmap = plt.cm.get_cmap('Spectral')\n",
    "agent_sales['Total_Sales'].plot(kind='barh', legend = False, ax=ax, colormap=cmap)\n",
    "plt.title(\"Comparison of total record sales made by support agents\")\n",
    "ax.set_xlabel('Total Sales')\n",
    "ax.set_ylabel('')\n"
   ]
  },
  {
   "cell_type": "markdown",
   "metadata": {},
   "source": [
    "Based off the sales data, Jane Peacock achieved the highest sales since being hired by the company and has ~10% more sales than Margaret Park and ~24% more sales than Steve Johnson.\n",
    "\n",
    "Jane was also the longest tenured amongst the 3 employees, hired roughly 1 month ahead of Margaret and ~6.5 months before Steve. Her being on the job for longer could possibly be the reason behind her superior sales numbers. \n",
    "\n",
    "To get a clear picture of who is the best Sales Agent amongst the 3, we should look at their sales data over a fixed and common period of time."
   ]
  },
  {
   "cell_type": "code",
   "execution_count": 8,
   "metadata": {
    "collapsed": false
   },
   "outputs": [
    {
     "data": {
      "text/html": [
       "<div>\n",
       "<style scoped>\n",
       "    .dataframe tbody tr th:only-of-type {\n",
       "        vertical-align: middle;\n",
       "    }\n",
       "\n",
       "    .dataframe tbody tr th {\n",
       "        vertical-align: top;\n",
       "    }\n",
       "\n",
       "    .dataframe thead th {\n",
       "        text-align: right;\n",
       "    }\n",
       "</style>\n",
       "<table border=\"1\" class=\"dataframe\">\n",
       "  <thead>\n",
       "    <tr style=\"text-align: right;\">\n",
       "      <th></th>\n",
       "      <th>Total_Customers</th>\n",
       "      <th>Total_Sales</th>\n",
       "      <th>Average_order_value</th>\n",
       "      <th>Average_per_customer</th>\n",
       "    </tr>\n",
       "    <tr>\n",
       "      <th>Country</th>\n",
       "      <th></th>\n",
       "      <th></th>\n",
       "      <th></th>\n",
       "      <th></th>\n",
       "    </tr>\n",
       "  </thead>\n",
       "  <tbody>\n",
       "    <tr>\n",
       "      <th>USA</th>\n",
       "      <td>13</td>\n",
       "      <td>1040.49</td>\n",
       "      <td>7.942672</td>\n",
       "      <td>80.037692</td>\n",
       "    </tr>\n",
       "    <tr>\n",
       "      <th>Canada</th>\n",
       "      <td>8</td>\n",
       "      <td>535.59</td>\n",
       "      <td>7.047237</td>\n",
       "      <td>66.948750</td>\n",
       "    </tr>\n",
       "    <tr>\n",
       "      <th>Brazil</th>\n",
       "      <td>5</td>\n",
       "      <td>427.68</td>\n",
       "      <td>7.011148</td>\n",
       "      <td>85.536000</td>\n",
       "    </tr>\n",
       "    <tr>\n",
       "      <th>France</th>\n",
       "      <td>5</td>\n",
       "      <td>389.07</td>\n",
       "      <td>7.781400</td>\n",
       "      <td>77.814000</td>\n",
       "    </tr>\n",
       "    <tr>\n",
       "      <th>Germany</th>\n",
       "      <td>4</td>\n",
       "      <td>334.62</td>\n",
       "      <td>8.161463</td>\n",
       "      <td>83.655000</td>\n",
       "    </tr>\n",
       "    <tr>\n",
       "      <th>Czech Republic</th>\n",
       "      <td>2</td>\n",
       "      <td>273.24</td>\n",
       "      <td>9.108000</td>\n",
       "      <td>136.620000</td>\n",
       "    </tr>\n",
       "    <tr>\n",
       "      <th>United Kingdom</th>\n",
       "      <td>3</td>\n",
       "      <td>245.52</td>\n",
       "      <td>8.768571</td>\n",
       "      <td>81.840000</td>\n",
       "    </tr>\n",
       "    <tr>\n",
       "      <th>Portugal</th>\n",
       "      <td>2</td>\n",
       "      <td>185.13</td>\n",
       "      <td>6.383793</td>\n",
       "      <td>92.565000</td>\n",
       "    </tr>\n",
       "    <tr>\n",
       "      <th>India</th>\n",
       "      <td>2</td>\n",
       "      <td>183.15</td>\n",
       "      <td>8.721429</td>\n",
       "      <td>91.575000</td>\n",
       "    </tr>\n",
       "    <tr>\n",
       "      <th>Other</th>\n",
       "      <td>15</td>\n",
       "      <td>1094.94</td>\n",
       "      <td>7.445071</td>\n",
       "      <td>72.996000</td>\n",
       "    </tr>\n",
       "  </tbody>\n",
       "</table>\n",
       "</div>"
      ],
      "text/plain": [
       "                Total_Customers  Total_Sales  Average_order_value  \\\n",
       "Country                                                             \n",
       "USA                          13      1040.49             7.942672   \n",
       "Canada                        8       535.59             7.047237   \n",
       "Brazil                        5       427.68             7.011148   \n",
       "France                        5       389.07             7.781400   \n",
       "Germany                       4       334.62             8.161463   \n",
       "Czech Republic                2       273.24             9.108000   \n",
       "United Kingdom                3       245.52             8.768571   \n",
       "Portugal                      2       185.13             6.383793   \n",
       "India                         2       183.15             8.721429   \n",
       "Other                        15      1094.94             7.445071   \n",
       "\n",
       "                Average_per_customer  \n",
       "Country                               \n",
       "USA                        80.037692  \n",
       "Canada                     66.948750  \n",
       "Brazil                     85.536000  \n",
       "France                     77.814000  \n",
       "Germany                    83.655000  \n",
       "Czech Republic            136.620000  \n",
       "United Kingdom             81.840000  \n",
       "Portugal                   92.565000  \n",
       "India                      91.575000  \n",
       "Other                      72.996000  "
      ]
     },
     "execution_count": 8,
     "metadata": {},
     "output_type": "execute_result"
    }
   ],
   "source": [
    "query3 = '''\n",
    "            WITH \n",
    "            global_customer AS\n",
    "            (\n",
    "                SELECT c.country Country, COUNT(distinct c.customer_id) No, SUM(inv.total) Total_sales, CAST(SUM(inv.total) as float)/COUNT(c.customer_id) Average_order\n",
    "                FROM customer c\n",
    "                INNER JOIN invoice inv ON inv.customer_id = c.customer_id\n",
    "                GROUP BY 1\n",
    "                ORDER BY 3 DESC\n",
    "            ),\n",
    "            mod_customers AS\n",
    "            (\n",
    "                SELECT\n",
    "                CASE\n",
    "                    WHEN gc.No > 1 THEN gc.Country\n",
    "                    WHEN gc.No = 1 THEN \"Other\"\n",
    "                END AS Country,\n",
    "                CASE\n",
    "                    WHEN gc.No > 1 THEN 1\n",
    "                    WHEN gc.No = 1 THEN 0\n",
    "                END AS sort,\n",
    "                gc.NO Total_customers,\n",
    "                gc.Total_sales Total_sales_value,\n",
    "                gc.Average_order Average_order,\n",
    "                CAST(gc.Total_sales as float)/gc.NO Average_per_customer\n",
    "                FROM global_customer gc\n",
    "                \n",
    "             )\n",
    "            \n",
    "            SELECT Country, SUM(Total_customers) Total_Customers, SUM(Total_sales_value) Total_Sales, AVG(Average_order) Average_order_value, AVG(Average_per_customer) Average_per_customer \n",
    "            FROM mod_customers\n",
    "            GROUP BY 1\n",
    "            ORDER BY sort DESC, Total_sales DESC;\n",
    "                '''\n",
    "\n",
    "country_sales = run_query(query3)\n",
    "country_sales.set_index(\"Country\",drop=True,inplace=True)\n",
    "country_sales"
   ]
  },
  {
   "cell_type": "code",
   "execution_count": 9,
   "metadata": {
    "collapsed": false
   },
   "outputs": [
    {
     "data": {
      "image/png": "[encoded data removed]",
      "text/plain": [
       "<matplotlib.figure.Figure at 0x7facbbc334a8>"
      ]
     },
     "metadata": {},
     "output_type": "display_data"
    }
   ],
   "source": [
    "fig = plt.figure(figsize=(8,8))\n",
    "ax1 = fig.add_subplot(1,1,1)\n",
    "\n",
    "country_sales[\"Total_Sales\"].plot(\n",
    "    kind=\"pie\",\n",
    "    ax=ax1,\n",
    "    startangle=-90,\n",
    "    title='Total Sales value\\nper country',\n",
    "    colormap=plt.cm.get_cmap('Spectral'),\n",
    "    wedgeprops={'linewidth':0.5}\n",
    ");\n",
    "ax1.set_ylabel('');\n"
   ]
  },
  {
   "cell_type": "code",
   "execution_count": 10,
   "metadata": {
    "collapsed": false
   },
   "outputs": [
    {
     "data": {
      "image/png": "[encoded data removed]",
      "text/plain": [
       "<matplotlib.figure.Figure at 0x7facbbdb7940>"
      ]
     },
     "metadata": {},
     "output_type": "display_data"
    }
   ],
   "source": [
    "pct_sales = country_sales.iloc[:,0:2]\n",
    "tot_cust = pct_sales[\"Total_Customers\"].sum()\n",
    "tot_sale = pct_sales[\"Total_Sales\"].sum()\n",
    "pct_sales[\"Total_Customers\"] = (pct_sales[\"Total_Customers\"]/tot_cust)*100\n",
    "pct_sales[\"Total_Sales\"] = (pct_sales[\"Total_Sales\"]/tot_sale)*100\n",
    "\n",
    "fig = plt.figure(figsize=(8,8))\n",
    "ax2 = fig.add_subplot(1,1,1)\n",
    "\n",
    "pct_sales.plot(\n",
    "    kind=\"bar\",\n",
    "    ax=ax2,\n",
    "    title='Percentage Customer to Sales Distribution',\n",
    "    colormap=plt.cm.get_cmap('Spectral')\n",
    ");\n",
    "\n",
    "ax2.tick_params(top=\"off\", right=\"off\", left=\"off\", bottom=\"off\")\n",
    "ax2.spines[\"top\"].set_visible(False)\n",
    "ax2.spines[\"right\"].set_visible(False)\n",
    "\n"
   ]
  },
  {
   "cell_type": "code",
   "execution_count": 11,
   "metadata": {
    "collapsed": false
   },
   "outputs": [
    {
     "data": {
      "image/png": "[encoded data removed]",
      "text/plain": [
       "<matplotlib.figure.Figure at 0x7facbbaa8be0>"
      ]
     },
     "metadata": {},
     "output_type": "display_data"
    }
   ],
   "source": [
    "mean_orders = country_sales.iloc[:,2]\n",
    "mean_orders = ((mean_orders - mean_orders.mean())/mean_orders.mean())*100\n",
    "mean_orders = mean_orders.drop(\"Other\")\n",
    "\n",
    "fig = plt.figure(figsize=(8,8))\n",
    "ax3 = fig.add_subplot(1,1,1)\n",
    "colors = [plt.cm.Spectral(i) for i in np.linspace(0, 1, mean_orders.shape[0])]\n",
    "\n",
    "mean_orders.plot(\n",
    "    kind=\"bar\",\n",
    "    ax=ax3,\n",
    "    title='Percentage Variation in Average Order Value from Mean',\n",
    "    color=colors\n",
    ");\n",
    "ax3.axhline(0, color='black')\n",
    "ax3.tick_params(top=\"off\", right=\"off\", left=\"off\", bottom=\"off\")\n",
    "ax3.spines[\"top\"].set_visible(False)\n",
    "ax3.spines[\"right\"].set_visible(False)\n",
    "ax3.spines[\"bottom\"].set_visible(False)\n"
   ]
  },
  {
   "cell_type": "code",
   "execution_count": 12,
   "metadata": {
    "collapsed": false
   },
   "outputs": [
    {
     "data": {
      "image/png": "[encoded data removed]",
      "text/plain": [
       "<matplotlib.figure.Figure at 0x7facbbf39c88>"
      ]
     },
     "metadata": {},
     "output_type": "display_data"
    }
   ],
   "source": [
    "fig = plt.figure(figsize=(8,8))\n",
    "ax4 = fig.add_subplot(1,1,1)\n",
    "colors = [plt.cm.Spectral(i) for i in np.linspace(0, 1, mean_orders.shape[0])]\n",
    "avg_sales = country_sales.drop(\"Other\")\n",
    "\n",
    "avg_sales[\"Average_per_customer\"].plot(\n",
    "    kind=\"bar\",\n",
    "    ax=ax4,\n",
    "    title='Average Spending per Customer in every Country',\n",
    "    color=colors\n",
    ");\n",
    "ax4.axhline(0, color='black')\n",
    "ax4.tick_params(top=\"off\", right=\"off\", left=\"off\", bottom=\"off\")\n",
    "ax4.spines[\"top\"].set_visible(False)\n",
    "ax4.spines[\"right\"].set_visible(False)"
   ]
  },
  {
   "cell_type": "markdown",
   "metadata": {},
   "source": [
    "Based off the above visualizations, 3 countries namely the Czech Republic, India and the United Kingdom are good places to start with improved and increased marketing campaigns. \n",
    "\n",
    "Customers from the 3 countries spend more on average than customers from other countries. Their cumulative sales accounted for less than the sales from the USA, increased advertisement campaigns could result in customer growth in those regions."
   ]
  },
  {
   "cell_type": "markdown",
   "metadata": {},
   "source": [
    "### Alternate purchase strategy viability\n",
    "\n",
    "The management team behind the record store are currently considering changing their purchasing strategy to save money and improve their profits.\n",
    "\n",
    "As it currently stands, the store does not allow customers to purchase a whole album, and then add individual tracks to that same purchase (unless they do that by adding each track manually to their inventory/invoice). There is no price discrepancy when customers choose to purchase the album as a whole or if they had purchased each of the constituent tracks separately.\n",
    "\n",
    "The new strategy they are considering is to purchase and list for sale only the most popular tracks from each available album from record companies, instead of purchasing every track from an album. They believe this would lead to improved sales as customers are more inclined to purchase popular tracks."
   ]
  },
  {
   "cell_type": "code",
   "execution_count": 85,
   "metadata": {
    "collapsed": false
   },
   "outputs": [
    {
     "data": {
      "text/html": [
       "<div>\n",
       "<style scoped>\n",
       "    .dataframe tbody tr th:only-of-type {\n",
       "        vertical-align: middle;\n",
       "    }\n",
       "\n",
       "    .dataframe tbody tr th {\n",
       "        vertical-align: top;\n",
       "    }\n",
       "\n",
       "    .dataframe thead th {\n",
       "        text-align: right;\n",
       "    }\n",
       "</style>\n",
       "<table border=\"1\" class=\"dataframe\">\n",
       "  <thead>\n",
       "    <tr style=\"text-align: right;\">\n",
       "      <th></th>\n",
       "      <th>No_of_invoices</th>\n",
       "      <th>complete_album</th>\n",
       "      <th>percentage</th>\n",
       "      <th>Average_invoice_value</th>\n",
       "    </tr>\n",
       "  </thead>\n",
       "  <tbody>\n",
       "    <tr>\n",
       "      <th>0</th>\n",
       "      <td>500</td>\n",
       "      <td>No</td>\n",
       "      <td>0.814332</td>\n",
       "      <td>6.496380</td>\n",
       "    </tr>\n",
       "    <tr>\n",
       "      <th>1</th>\n",
       "      <td>114</td>\n",
       "      <td>Yes</td>\n",
       "      <td>0.185668</td>\n",
       "      <td>12.817895</td>\n",
       "    </tr>\n",
       "  </tbody>\n",
       "</table>\n",
       "</div>"
      ],
      "text/plain": [
       "   No_of_invoices complete_album  percentage  Average_invoice_value\n",
       "0             500             No    0.814332               6.496380\n",
       "1             114            Yes    0.185668              12.817895"
      ]
     },
     "execution_count": 85,
     "metadata": {},
     "output_type": "execute_result"
    }
   ],
   "source": [
    "query4 = '''\n",
    "           WITH invoice_tracks AS\n",
    "            (\n",
    "             SELECT\n",
    "             il.invoice_id invoice_id,\n",
    "             il.track_id track_id,\n",
    "             t.album_id album_id,\n",
    "             inv.total total\n",
    "             FROM invoice_line il\n",
    "             INNER JOIN track t ON t.track_id = il.track_id\n",
    "             INNER JOIN invoice inv ON inv.invoice_id = il.invoice_id\n",
    "             GROUP BY 1\n",
    "            ),\n",
    "\n",
    "                    \n",
    "            album_purchase AS\n",
    "            (\n",
    "             SELECT\n",
    "              it.*,\n",
    "              CASE\n",
    "                  WHEN ( \n",
    "                         SELECT at.track_id FROM track at\n",
    "                         WHERE at.album_id = (SELECT t.album_id FROM track t\n",
    "                                              WHERE t.track_id = it.track_id)\n",
    "                         EXCEPT\n",
    "                         \n",
    "                         SELECT il.track_id FROM invoice_line il\n",
    "                         WHERE (il.invoice_id = it.invoice_id)\n",
    "                       ) IS NULL\n",
    "                  AND\n",
    "                       ( \n",
    "                         SELECT il.track_id FROM invoice_line il\n",
    "                         WHERE (il.invoice_id = it.invoice_id)\n",
    "                         EXCEPT\n",
    "                         SELECT at.track_id FROM track at\n",
    "                         WHERE at.album_id = (SELECT t.album_id FROM track t\n",
    "                                              WHERE t.track_id = it.track_id)\n",
    "                       ) IS NULL\n",
    "                THEN \"Yes\"\n",
    "                ELSE \"No\"\n",
    "              END AS full_album\n",
    "              FROM invoice_tracks it\n",
    "              \n",
    "             )\n",
    "            \n",
    "                                             \n",
    "            SELECT \n",
    "            COUNT(ap.invoice_id) No_of_invoices, \n",
    "            ap.full_album complete_album,\n",
    "            CAST(COUNT(ap.invoice_id) as float)/(SELECT COUNT(*) from album_purchase) percentage,\n",
    "            CAST(SUM(ap.total) as float)/(COUNT (ap.invoice_id)) Average_invoice_value\n",
    "            FROM album_purchase ap\n",
    "            GROUP BY 2\n",
    "            \n",
    "            \n",
    "           \n",
    "'''\n",
    "\n",
    "run_query(query4)"
   ]
  },
  {
   "cell_type": "markdown",
   "metadata": {},
   "source": [
    "Based off the analysis above, More than 80% of the purchases made by customers at the store at are for individual tracks or a collection of individual tracks.\n",
    "\n",
    "Only ~19% of the purchases made are for complete albums.\n",
    "\n",
    "If the record store management team were to change and their strategy and eliminate complete album purchasing capability, they would risk alienating ~19% of their customer base who seem to spend on average twice the amount per invoice than the other 81% of customers."
   ]
  }
 ],
 "metadata": {
  "kernelspec": {
   "display_name": "Python 3",
   "language": "python",
   "name": "python3"
  },
  "language_info": {
   "codemirror_mode": {
    "name": "ipython",
    "version": 3
   },
   "file_extension": ".py",
   "mimetype": "text/x-python",
   "name": "python",
   "nbconvert_exporter": "python",
   "pygments_lexer": "ipython3",
   "version": "3.4.3"
  }
 },
 "nbformat": 4,
 "nbformat_minor": 2
}
